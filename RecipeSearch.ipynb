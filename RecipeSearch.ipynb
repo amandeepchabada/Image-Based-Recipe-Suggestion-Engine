{
 "cells": [
  {
   "cell_type": "code",
   "execution_count": 1,
   "id": "765a8313-3b07-4ff3-936a-e1ada7b05398",
   "metadata": {},
   "outputs": [],
   "source": [
    "\n",
    "import pandas as pd\n",
    "import ast\n",
    "import nltk\n",
    "import re\n",
    "from nltk.corpus import stopwords\n",
    "from nltk.stem import WordNetLemmatizer\n",
    "from nltk import bigrams\n",
    "from collections import Counter\n",
    "import numpy as np\n",
    "\n",
    "import io\n",
    "from google.cloud import vision_v1p3beta1 as vision\n",
    "from google.protobuf.json_format import MessageToDict\n",
    "\n",
    "from gensim.models import Word2Vec\n",
    "import gensim.downloader as api\n"
   ]
  },
  {
   "cell_type": "code",
   "execution_count": 2,
   "id": "baca1d7b-9468-472a-a9b7-f2221212fd36",
   "metadata": {},
   "outputs": [
    {
     "name": "stdout",
     "output_type": "stream",
     "text": [
      "env: GOOGLE_APPLICATION_CREDENTIALS=/Users/amandeepchabada/Desktop/AI539/recipes/evident-airline-386406-4d1a284a2b16.json\n"
     ]
    }
   ],
   "source": [
    "%env GOOGLE_APPLICATION_CREDENTIALS=/Users/amandeepchabada/Desktop/AI539/recipes/evident-airline-386406-4d1a284a2b16.json"
   ]
  },
  {
   "cell_type": "markdown",
   "id": "12069f4c-1f0a-466b-8d74-83983f3fd210",
   "metadata": {
    "tags": []
   },
   "source": [
    "### Recipies"
   ]
  },
  {
   "cell_type": "code",
   "execution_count": 3,
   "id": "ef879584-a110-49dc-871a-cafba208c3a5",
   "metadata": {},
   "outputs": [],
   "source": [
    "lemmatizer = WordNetLemmatizer()\n",
    "# Define stopwords to remove from the ingredients\n",
    "stop_words = set(stopwords.words('english'))"
   ]
  },
  {
   "cell_type": "code",
   "execution_count": 4,
   "id": "d03937bc-d094-404e-b465-7fbd0ec6c02d",
   "metadata": {},
   "outputs": [],
   "source": [
    "column_names = ['id', 'title', 'ingredients', 'instructions', 'image_name', 'cleaned_ingredients']\n",
    "\n",
    "# Read the CSV file and select the desired columns, skipping the first row\n",
    "df = pd.read_csv('/Users/amandeepchabada/Desktop/AI539/recipes/recipes.csv')\n",
    "df.columns = column_names"
   ]
  },
  {
   "cell_type": "code",
   "execution_count": 5,
   "id": "198ef697-edc4-401d-a5a3-666f6768b38e",
   "metadata": {},
   "outputs": [
    {
     "data": {
      "text/plain": [
       "(13501, 6)"
      ]
     },
     "execution_count": 5,
     "metadata": {},
     "output_type": "execute_result"
    }
   ],
   "source": [
    "df.shape"
   ]
  },
  {
   "cell_type": "code",
   "execution_count": 6,
   "id": "54abe1c9-0771-419a-a9a8-c3c576feaa8b",
   "metadata": {},
   "outputs": [],
   "source": [
    "df.sample(2).to_clipboard()"
   ]
  },
  {
   "cell_type": "code",
   "execution_count": 7,
   "id": "f3a04bf2-5c25-4b23-813e-64cabb3fcf35",
   "metadata": {},
   "outputs": [],
   "source": [
    "ingredients_data = pd.read_json('/Users/amandeepchabada/Desktop/AI539/recipes/ingredients.json')\n",
    "ingredients_list = ingredients_data['ingredients'].tolist()\n",
    "ingredients = [word.lower() for ingredients_list in ingredients_list for ingredient in ingredients_list for word in ingredient.split() if word.lower() not in stop_words]\n",
    "unique_ingredients = set(ingredients)\n",
    "unique_ingredients_list = list(unique_ingredients)\n",
    "unique_ingredients_list_lemm = [lemmatizer.lemmatize(word) for word in unique_ingredients_list]"
   ]
  },
  {
   "cell_type": "code",
   "execution_count": 8,
   "id": "22f9ab94-75a9-4aed-9d0d-3df4dcb6bcd0",
   "metadata": {},
   "outputs": [],
   "source": [
    "# Initialize lemmatizer\n",
    "\n",
    "# This function will clean up your ingredients and filter based on unique ingredients\n",
    "def clean_and_filter_ingredients(ingredients_str):\n",
    "    # Convert string list to actual list\n",
    "    ingredients_list = ast.literal_eval(ingredients_str)\n",
    "    cleaned_ingredients = []\n",
    "    for ingredient in ingredients_list:\n",
    "        # Remove everything in parentheses\n",
    "        ingredient = re.sub(r'\\([^)]*\\)', '', ingredient)\n",
    "        # Remove numbers and special characters\n",
    "        ingredient = re.sub(r'[^a-zA-Z\\s]', '', ingredient)\n",
    "        # Convert to lowercase\n",
    "        ingredient = ingredient.lower()\n",
    "        # Split into words\n",
    "        words = ingredient.split()\n",
    "        # Remove stopwords and lemmatize\n",
    "        words = [lemmatizer.lemmatize(word) for word in words if word not in stop_words]\n",
    "        cleaned_ingredients.extend(words)\n",
    "    #filtered_ingredients = [ingredient for ingredient in cleaned_ingredients if ingredient in unique_ingredients_list_lemm]\n",
    "    return list(set(cleaned_ingredients))\n",
    "\n"
   ]
  },
  {
   "cell_type": "code",
   "execution_count": 9,
   "id": "c3c47fc7-c757-4895-a566-998200029960",
   "metadata": {},
   "outputs": [],
   "source": [
    "# Apply the clean_and_filter_ingredients function to the 'cleaned_ingredients' column\n",
    "df['ingredients_list'] = df['cleaned_ingredients'].apply(clean_and_filter_ingredients)\n",
    "short_df = df[['id', 'title','ingredients_list','image_name','instructions', 'cleaned_ingredients']]"
   ]
  },
  {
   "cell_type": "code",
   "execution_count": 10,
   "id": "8a6a6977-c16a-4c31-8e82-41373fb1c12c",
   "metadata": {},
   "outputs": [],
   "source": [
    "def find_recipe_by_exact_match(ingredient_list):\n",
    "    ingredient_list = [lemmatizer.lemmatize(word) for word in ingredient_list]\n",
    "    print(ingredient_list)\n",
    "    matching_records = short_df[short_df['ingredients_list'].apply(lambda x: set(ingredient_list) == set(x))]\n",
    "    return matching_records\n"
   ]
  },
  {
   "cell_type": "code",
   "execution_count": 11,
   "id": "b43aece1-6b4d-45a1-9983-66e99f9aecf8",
   "metadata": {},
   "outputs": [],
   "source": [
    "def find_recipe_by_similarity(ingredient_list, similarity_threshold=0.5):\n",
    "    ingredient_list = [lemmatizer.lemmatize(word) for word in ingredient_list]\n",
    "    print(ingredient_list)\n",
    "    matching_records = short_df[short_df['ingredients_list'].apply(lambda x: len(set(ingredient_list).intersection(x)) / len(set(ingredient_list).union(x))) >= similarity_threshold]\n",
    "    return matching_records"
   ]
  },
  {
   "cell_type": "markdown",
   "id": "41e58ff0-0a8d-469c-839c-5c853b223312",
   "metadata": {},
   "source": [
    "### Image Processing"
   ]
  },
  {
   "cell_type": "code",
   "execution_count": 12,
   "id": "26f3266a-013c-4357-a618-7a3f9a1cde6c",
   "metadata": {},
   "outputs": [],
   "source": [
    "files = ['img1.jpeg','img2.jpeg','img3.jpeg']"
   ]
  },
  {
   "cell_type": "code",
   "execution_count": 13,
   "id": "72793918-8e25-4631-a06c-4e7700341eb2",
   "metadata": {},
   "outputs": [],
   "source": [
    "client = vision.ImageAnnotatorClient()\n",
    "\n",
    "content = []\n",
    "for file_path in files:\n",
    "\n",
    "    with io.open(file_path, 'rb') as image_file:\n",
    "        content.append(image_file.read())\n",
    "    \n",
    "data_from_images = []\n",
    "for c in content:\n",
    "    image = vision.Image(content=c)\n",
    "\n",
    "    response = client.label_detection(image=image,max_results = 500)\n",
    "    response = MessageToDict(response._pb)\n",
    "    data_from_images.append([x['description'] for x in response['labelAnnotations']])"
   ]
  },
  {
   "cell_type": "code",
   "execution_count": 14,
   "id": "d966fe40-4499-410c-b24e-21acdc738b6a",
   "metadata": {},
   "outputs": [],
   "source": [
    "processed_img_ingredients = []\n",
    "for data in data_from_images:\n",
    "    processed_img_ingredients.append([ing.lower() for ing in data])\n",
    "    \n",
    "cleaned_processed_img_ingredients = []\n",
    "for record in processed_img_ingredients:\n",
    "    clean_record = []\n",
    "    items = [lemmatizer.lemmatize(word) for record in record for word in record.split() if word not in stop_words]\n",
    "    cleaned_processed_img_ingredients.append(items)"
   ]
  },
  {
   "cell_type": "code",
   "execution_count": 15,
   "id": "ecbbdaa2-ab07-46b9-9029-4fca92af875a",
   "metadata": {},
   "outputs": [],
   "source": [
    "common_ingredients = []#['salt', 'pepper', 'flour', 'sugar', 'butter', 'oil', 'water', 'milk', 'eggs', 'onions', 'garlic', 'rice']\n",
    "final_img_ingredients = []\n",
    "for record in cleaned_processed_img_ingredients:\n",
    "    final_img_ingredients.append(list(set(record + common_ingredients)))"
   ]
  },
  {
   "cell_type": "code",
   "execution_count": 29,
   "id": "1778a308-0897-4dfe-9703-156810250911",
   "metadata": {},
   "outputs": [],
   "source": [
    "def find_top_matches(df, final_img_ingredients):\n",
    "    # Create a new column to store the intersection count\n",
    "    df['intersection_count'] = 0\n",
    "\n",
    "    # Iterate over each row and calculate the intersection count\n",
    "    for index, row in df.iterrows():\n",
    "        intersection = set(row['ingredients_list']) & set(final_img_ingredients)\n",
    "        intersection_count = len(intersection)\n",
    "        df.at[index, 'intersection_count'] = intersection_count\n",
    "\n",
    "    # Sort the DataFrame by the intersection count column in descending order\n",
    "    df_sorted = df.sort_values('intersection_count', ascending=False)\n",
    "\n",
    "    # Retrieve the rows with the highest intersection count\n",
    "    top_values = df_sorted['intersection_count'].unique()[:3]  # Get top 3 unique values\n",
    "    top_matches = df_sorted[df_sorted['intersection_count'].isin(top_values)].head(3)\n",
    "\n",
    "    return top_matches"
   ]
  },
  {
   "cell_type": "code",
   "execution_count": 30,
   "id": "c26b1b3c-d7fd-461b-bb76-b05f3d33cc56",
   "metadata": {},
   "outputs": [
    {
     "data": {
      "text/html": [
       "<div>\n",
       "<style scoped>\n",
       "    .dataframe tbody tr th:only-of-type {\n",
       "        vertical-align: middle;\n",
       "    }\n",
       "\n",
       "    .dataframe tbody tr th {\n",
       "        vertical-align: top;\n",
       "    }\n",
       "\n",
       "    .dataframe thead th {\n",
       "        text-align: right;\n",
       "    }\n",
       "</style>\n",
       "<table border=\"1\" class=\"dataframe\">\n",
       "  <thead>\n",
       "    <tr style=\"text-align: right;\">\n",
       "      <th></th>\n",
       "      <th>id</th>\n",
       "      <th>title</th>\n",
       "      <th>ingredients</th>\n",
       "      <th>instructions</th>\n",
       "      <th>image_name</th>\n",
       "      <th>cleaned_ingredients</th>\n",
       "      <th>ingredients_list</th>\n",
       "      <th>intersection_count</th>\n",
       "    </tr>\n",
       "  </thead>\n",
       "  <tbody>\n",
       "    <tr>\n",
       "      <th>9292</th>\n",
       "      <td>9292</td>\n",
       "      <td>Chicken Curry</td>\n",
       "      <td>['10 dried guajillo or New Mexico chiles (abou...</td>\n",
       "      <td>In medium bowl, combine chiles and cold water ...</td>\n",
       "      <td>chicken-curry-350992</td>\n",
       "      <td>['10 dried guajillo or New Mexico chiles (abou...</td>\n",
       "      <td>[kosher, cinnamon, clean, chicken, guajillo, g...</td>\n",
       "      <td>8</td>\n",
       "    </tr>\n",
       "    <tr>\n",
       "      <th>6375</th>\n",
       "      <td>6375</td>\n",
       "      <td>Pot Roast in Rich Gravy</td>\n",
       "      <td>['1/4 cup matzoh cake meal', '4 tablespoons ve...</td>\n",
       "      <td>Preheat oven to 350°F with rack in middle.\\nOn...</td>\n",
       "      <td>pot-roast-in-rich-gravy-394970</td>\n",
       "      <td>['1/4 cup matzoh cake meal', '4 tablespoons ve...</td>\n",
       "      <td>[cinnamon, heavy, chuck, chicken, vegetable, r...</td>\n",
       "      <td>7</td>\n",
       "    </tr>\n",
       "    <tr>\n",
       "      <th>8223</th>\n",
       "      <td>8223</td>\n",
       "      <td>Vegetarian Shepherd's Pie</td>\n",
       "      <td>['10 ounces pearl onions (about 2 1/4 cups)', ...</td>\n",
       "      <td>Blanch pearl onions in a 2-quart saucepan of b...</td>\n",
       "      <td>vegetarian-shepherds-pie-355994</td>\n",
       "      <td>['10 ounces pearl onions (about 2 1/4 cups)', ...</td>\n",
       "      <td>[pearl, inch, heavy, flameproof, hot, cremini,...</td>\n",
       "      <td>7</td>\n",
       "    </tr>\n",
       "  </tbody>\n",
       "</table>\n",
       "</div>"
      ],
      "text/plain": [
       "        id                      title  \\\n",
       "9292  9292              Chicken Curry   \n",
       "6375  6375    Pot Roast in Rich Gravy   \n",
       "8223  8223  Vegetarian Shepherd's Pie   \n",
       "\n",
       "                                            ingredients  \\\n",
       "9292  ['10 dried guajillo or New Mexico chiles (abou...   \n",
       "6375  ['1/4 cup matzoh cake meal', '4 tablespoons ve...   \n",
       "8223  ['10 ounces pearl onions (about 2 1/4 cups)', ...   \n",
       "\n",
       "                                           instructions  \\\n",
       "9292  In medium bowl, combine chiles and cold water ...   \n",
       "6375  Preheat oven to 350°F with rack in middle.\\nOn...   \n",
       "8223  Blanch pearl onions in a 2-quart saucepan of b...   \n",
       "\n",
       "                           image_name  \\\n",
       "9292             chicken-curry-350992   \n",
       "6375   pot-roast-in-rich-gravy-394970   \n",
       "8223  vegetarian-shepherds-pie-355994   \n",
       "\n",
       "                                    cleaned_ingredients  \\\n",
       "9292  ['10 dried guajillo or New Mexico chiles (abou...   \n",
       "6375  ['1/4 cup matzoh cake meal', '4 tablespoons ve...   \n",
       "8223  ['10 ounces pearl onions (about 2 1/4 cups)', ...   \n",
       "\n",
       "                                       ingredients_list  intersection_count  \n",
       "9292  [kosher, cinnamon, clean, chicken, guajillo, g...                   8  \n",
       "6375  [cinnamon, heavy, chuck, chicken, vegetable, r...                   7  \n",
       "8223  [pearl, inch, heavy, flameproof, hot, cremini,...                   7  "
      ]
     },
     "execution_count": 30,
     "metadata": {},
     "output_type": "execute_result"
    }
   ],
   "source": [
    "find_top_matches(df,final_img_ingredients[0])"
   ]
  },
  {
   "cell_type": "code",
   "execution_count": 31,
   "id": "57b34c9e-11e1-4243-bbb1-d50376920bb1",
   "metadata": {},
   "outputs": [
    {
     "data": {
      "text/html": [
       "<div>\n",
       "<style scoped>\n",
       "    .dataframe tbody tr th:only-of-type {\n",
       "        vertical-align: middle;\n",
       "    }\n",
       "\n",
       "    .dataframe tbody tr th {\n",
       "        vertical-align: top;\n",
       "    }\n",
       "\n",
       "    .dataframe thead th {\n",
       "        text-align: right;\n",
       "    }\n",
       "</style>\n",
       "<table border=\"1\" class=\"dataframe\">\n",
       "  <thead>\n",
       "    <tr style=\"text-align: right;\">\n",
       "      <th></th>\n",
       "      <th>id</th>\n",
       "      <th>title</th>\n",
       "      <th>ingredients</th>\n",
       "      <th>instructions</th>\n",
       "      <th>image_name</th>\n",
       "      <th>cleaned_ingredients</th>\n",
       "      <th>ingredients_list</th>\n",
       "      <th>intersection_count</th>\n",
       "    </tr>\n",
       "  </thead>\n",
       "  <tbody>\n",
       "    <tr>\n",
       "      <th>7187</th>\n",
       "      <td>7187</td>\n",
       "      <td>Grapes Leaves with Bulgar and Mint</td>\n",
       "      <td>[\"1 1/2 cups whole grain quick-cooking bulgur ...</td>\n",
       "      <td>Combine bulgur, green onions, tomatoes, choppe...</td>\n",
       "      <td>grapes-leaves-with-bulgar-and-mint-364629</td>\n",
       "      <td>['\"1 1/2 cups whole grain quick-cooking bulgur...</td>\n",
       "      <td>[extravirgin, ounce, ground, store, tip, drain...</td>\n",
       "      <td>8</td>\n",
       "    </tr>\n",
       "    <tr>\n",
       "      <th>7696</th>\n",
       "      <td>7696</td>\n",
       "      <td>Lamb Bulgogi with Asian Pear Dipping Sauce</td>\n",
       "      <td>['4 green onions, coarsely chopped', '3 tables...</td>\n",
       "      <td>Place green onions, sugar, chopped garlic, and...</td>\n",
       "      <td>lamb-bulgogi-with-asian-pear-dipping-sauce-359749</td>\n",
       "      <td>['4 green onions, coarsely chopped', '3 tables...</td>\n",
       "      <td>[asian, inch, left, trim, use, lettuce, seed, ...</td>\n",
       "      <td>8</td>\n",
       "    </tr>\n",
       "    <tr>\n",
       "      <th>8003</th>\n",
       "      <td>8003</td>\n",
       "      <td>Sichuan Beef Noodle Soup with Pickled Mustard ...</td>\n",
       "      <td>['5 pounds boneless beef shank', '1/4 cup vege...</td>\n",
       "      <td>Bring large pot of water to boil over high hea...</td>\n",
       "      <td>sichuan-beef-noodle-soup-with-pickled-mustard-...</td>\n",
       "      <td>['5 pounds boneless beef shank', '1/4 cup vege...</td>\n",
       "      <td>[side, inch, choy, peppercorn, ginger, soy, ri...</td>\n",
       "      <td>8</td>\n",
       "    </tr>\n",
       "  </tbody>\n",
       "</table>\n",
       "</div>"
      ],
      "text/plain": [
       "        id                                              title  \\\n",
       "7187  7187                 Grapes Leaves with Bulgar and Mint   \n",
       "7696  7696         Lamb Bulgogi with Asian Pear Dipping Sauce   \n",
       "8003  8003  Sichuan Beef Noodle Soup with Pickled Mustard ...   \n",
       "\n",
       "                                            ingredients  \\\n",
       "7187  [\"1 1/2 cups whole grain quick-cooking bulgur ...   \n",
       "7696  ['4 green onions, coarsely chopped', '3 tables...   \n",
       "8003  ['5 pounds boneless beef shank', '1/4 cup vege...   \n",
       "\n",
       "                                           instructions  \\\n",
       "7187  Combine bulgur, green onions, tomatoes, choppe...   \n",
       "7696  Place green onions, sugar, chopped garlic, and...   \n",
       "8003  Bring large pot of water to boil over high hea...   \n",
       "\n",
       "                                             image_name  \\\n",
       "7187          grapes-leaves-with-bulgar-and-mint-364629   \n",
       "7696  lamb-bulgogi-with-asian-pear-dipping-sauce-359749   \n",
       "8003  sichuan-beef-noodle-soup-with-pickled-mustard-...   \n",
       "\n",
       "                                    cleaned_ingredients  \\\n",
       "7187  ['\"1 1/2 cups whole grain quick-cooking bulgur...   \n",
       "7696  ['4 green onions, coarsely chopped', '3 tables...   \n",
       "8003  ['5 pounds boneless beef shank', '1/4 cup vege...   \n",
       "\n",
       "                                       ingredients_list  intersection_count  \n",
       "7187  [extravirgin, ounce, ground, store, tip, drain...                   8  \n",
       "7696  [asian, inch, left, trim, use, lettuce, seed, ...                   8  \n",
       "8003  [side, inch, choy, peppercorn, ginger, soy, ri...                   8  "
      ]
     },
     "execution_count": 31,
     "metadata": {},
     "output_type": "execute_result"
    }
   ],
   "source": [
    "find_top_matches(df,final_img_ingredients[1])"
   ]
  },
  {
   "cell_type": "code",
   "execution_count": 32,
   "id": "8514ed20-19a2-4f7e-9d7e-20b7fe53dc07",
   "metadata": {},
   "outputs": [
    {
     "data": {
      "text/html": [
       "<div>\n",
       "<style scoped>\n",
       "    .dataframe tbody tr th:only-of-type {\n",
       "        vertical-align: middle;\n",
       "    }\n",
       "\n",
       "    .dataframe tbody tr th {\n",
       "        vertical-align: top;\n",
       "    }\n",
       "\n",
       "    .dataframe thead th {\n",
       "        text-align: right;\n",
       "    }\n",
       "</style>\n",
       "<table border=\"1\" class=\"dataframe\">\n",
       "  <thead>\n",
       "    <tr style=\"text-align: right;\">\n",
       "      <th></th>\n",
       "      <th>id</th>\n",
       "      <th>title</th>\n",
       "      <th>ingredients</th>\n",
       "      <th>instructions</th>\n",
       "      <th>image_name</th>\n",
       "      <th>cleaned_ingredients</th>\n",
       "      <th>ingredients_list</th>\n",
       "      <th>intersection_count</th>\n",
       "    </tr>\n",
       "  </thead>\n",
       "  <tbody>\n",
       "    <tr>\n",
       "      <th>7187</th>\n",
       "      <td>7187</td>\n",
       "      <td>Grapes Leaves with Bulgar and Mint</td>\n",
       "      <td>[\"1 1/2 cups whole grain quick-cooking bulgur ...</td>\n",
       "      <td>Combine bulgur, green onions, tomatoes, choppe...</td>\n",
       "      <td>grapes-leaves-with-bulgar-and-mint-364629</td>\n",
       "      <td>['\"1 1/2 cups whole grain quick-cooking bulgur...</td>\n",
       "      <td>[extravirgin, ounce, ground, store, tip, drain...</td>\n",
       "      <td>9</td>\n",
       "    </tr>\n",
       "    <tr>\n",
       "      <th>6292</th>\n",
       "      <td>6292</td>\n",
       "      <td>Fattoush</td>\n",
       "      <td>['4 teaspoons ground sumac, soaked in 4 teaspo...</td>\n",
       "      <td>Combine sumac with soaking liquid, 3 tablespoo...</td>\n",
       "      <td>fattoush-395481</td>\n",
       "      <td>['4 teaspoons ground sumac, soaked in 4 teaspo...</td>\n",
       "      <td>[kosher, tomato, lettuce, dried, market, lengt...</td>\n",
       "      <td>7</td>\n",
       "    </tr>\n",
       "    <tr>\n",
       "      <th>581</th>\n",
       "      <td>581</td>\n",
       "      <td>Pitaquiles</td>\n",
       "      <td>['3 pitas (do not split into 2 rounds each)', ...</td>\n",
       "      <td>Preheat the oven to 425°F.\\nStack the pitas an...</td>\n",
       "      <td>pitaquiles-pita-in-tomato-sauce</td>\n",
       "      <td>['3 pitas (do not split into 2 rounds each)', ...</td>\n",
       "      <td>[kosher, feta, extravirgin, thin, ground, garn...</td>\n",
       "      <td>7</td>\n",
       "    </tr>\n",
       "  </tbody>\n",
       "</table>\n",
       "</div>"
      ],
      "text/plain": [
       "        id                               title  \\\n",
       "7187  7187  Grapes Leaves with Bulgar and Mint   \n",
       "6292  6292                            Fattoush   \n",
       "581    581                          Pitaquiles   \n",
       "\n",
       "                                            ingredients  \\\n",
       "7187  [\"1 1/2 cups whole grain quick-cooking bulgur ...   \n",
       "6292  ['4 teaspoons ground sumac, soaked in 4 teaspo...   \n",
       "581   ['3 pitas (do not split into 2 rounds each)', ...   \n",
       "\n",
       "                                           instructions  \\\n",
       "7187  Combine bulgur, green onions, tomatoes, choppe...   \n",
       "6292  Combine sumac with soaking liquid, 3 tablespoo...   \n",
       "581   Preheat the oven to 425°F.\\nStack the pitas an...   \n",
       "\n",
       "                                     image_name  \\\n",
       "7187  grapes-leaves-with-bulgar-and-mint-364629   \n",
       "6292                            fattoush-395481   \n",
       "581             pitaquiles-pita-in-tomato-sauce   \n",
       "\n",
       "                                    cleaned_ingredients  \\\n",
       "7187  ['\"1 1/2 cups whole grain quick-cooking bulgur...   \n",
       "6292  ['4 teaspoons ground sumac, soaked in 4 teaspo...   \n",
       "581   ['3 pitas (do not split into 2 rounds each)', ...   \n",
       "\n",
       "                                       ingredients_list  intersection_count  \n",
       "7187  [extravirgin, ounce, ground, store, tip, drain...                   9  \n",
       "6292  [kosher, tomato, lettuce, dried, market, lengt...                   7  \n",
       "581   [kosher, feta, extravirgin, thin, ground, garn...                   7  "
      ]
     },
     "execution_count": 32,
     "metadata": {},
     "output_type": "execute_result"
    }
   ],
   "source": [
    "find_top_matches(df,final_img_ingredients[2])"
   ]
  },
  {
   "cell_type": "code",
   "execution_count": null,
   "id": "90239a71-5548-4376-884a-59f4151dd04b",
   "metadata": {},
   "outputs": [],
   "source": []
  }
 ],
 "metadata": {
  "kernelspec": {
   "display_name": "Python 3 (ipykernel)",
   "language": "python",
   "name": "python3"
  },
  "language_info": {
   "codemirror_mode": {
    "name": "ipython",
    "version": 3
   },
   "file_extension": ".py",
   "mimetype": "text/x-python",
   "name": "python",
   "nbconvert_exporter": "python",
   "pygments_lexer": "ipython3",
   "version": "3.9.7"
  }
 },
 "nbformat": 4,
 "nbformat_minor": 5
}
